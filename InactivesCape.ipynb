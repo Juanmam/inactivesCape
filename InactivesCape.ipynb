{
 "cells": [
  {
   "cell_type": "code",
   "execution_count": 1,
   "metadata": {},
   "outputs": [],
   "source": [
    "#Imports\n",
    "import pandas as pd\n",
    "from src.util import openBrowser, isActive\n",
    "from src.input import readExcel"
   ]
  },
  {
   "cell_type": "code",
   "execution_count": 2,
   "metadata": {},
   "outputs": [],
   "source": [
    "filename, sheetname, header = \"cathedral\", \"Main\", 2\n",
    "\n",
    "df     = readExcel(filename, sheetname, header, [\"url\"])\n",
    "output = pd.DataFrame(columns=['url', 'active'])"
   ]
  },
  {
   "cell_type": "code",
   "execution_count": 3,
   "metadata": {
    "scrolled": true
   },
   "outputs": [
    {
     "name": "stdout",
     "output_type": "stream",
     "text": [
      "Progress: 2827/2807\r"
     ]
    }
   ],
   "source": [
    "driver = openBrowser()\n",
    "for index, row in df.iterrows():\n",
    "    print('Progress:',str(index + 1) + '/' + str(df.count()[0]) , end='\\r', flush=True)\n",
    "    if not pd.isna(row.url):\n",
    "        driver.get(row.url)\n",
    "        if isActive(driver.current_url):\n",
    "            output = output.append({'url': row.url, 'active': \"yes\"}, ignore_index = True)\n",
    "        else:\n",
    "            output = output.append({'url': row.url, 'active': \"no\"}, ignore_index = True)\n",
    "    else:\n",
    "        output = output.append({'url': row.url, 'active': \"no\"}, ignore_index = True)\n",
    "        \n",
    "driver.close()"
   ]
  },
  {
   "cell_type": "code",
   "execution_count": 4,
   "metadata": {},
   "outputs": [],
   "source": [
    "output.to_excel( './io/output/' + str(filename) + '.xlsx')"
   ]
  },
  {
   "cell_type": "code",
   "execution_count": null,
   "metadata": {},
   "outputs": [],
   "source": []
  }
 ],
 "metadata": {
  "kernelspec": {
   "display_name": "Python 3",
   "language": "python",
   "name": "python3"
  },
  "language_info": {
   "codemirror_mode": {
    "name": "ipython",
    "version": 3
   },
   "file_extension": ".py",
   "mimetype": "text/x-python",
   "name": "python",
   "nbconvert_exporter": "python",
   "pygments_lexer": "ipython3",
   "version": "3.7.4"
  }
 },
 "nbformat": 4,
 "nbformat_minor": 2
}
